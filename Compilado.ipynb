{
 "cells": [
  {
   "cell_type": "code",
   "execution_count": null,
   "metadata": {},
   "outputs": [],
   "source": [
    "df = pd.read_csv(\"solicitudes_credito.csv\", sep=\";\")\n",
    "df = df[df.columns[1:]]\n",
    "df.drop_duplicates(inplace=True)\n",
    "df.dropna(inplace=True)\n",
    "\n",
    "sexo_df = pd.DataFrame ({'sexo' : list(df.sexo)})\n",
    "sexo_df = sexo_df.drop_duplicates()\n",
    "sexo_df = sexo_df.assign(key=sexo_df.sexo.str.lower())\n",
    "sexo_df.groupby('key').agg(list)\n",
    "df['sexo'] = df.sexo.str.replace(' ', '_')\n",
    "df['sexo'] = df.sexo.str.lower()\n",
    "df.sexo.value_counts()\n",
    "\n",
    "idea_negocio_df = pd.DataFrame ({'idea_negocio' : list(df.idea_negocio)})\n",
    "idea_negocio_df = idea_negocio_df.drop_duplicates()\n",
    "idea_negocio_df = idea_negocio_df.assign(key=idea_negocio_df.idea_negocio.str.lower())\n",
    "idea_negocio_df.groupby('key').agg(list)\n",
    "df['idea_negocio'] = df.idea_negocio.str.replace(' ', '_')\n",
    "df['idea_negocio'] = df.idea_negocio.str.replace('-', '_')\n",
    "df['idea_negocio'] = df.idea_negocio.str.lower()\n",
    "df['idea_negocio'] = df.idea_negocio.str.strip()\n",
    "\n",
    "barrio_df = pd.DataFrame ({'barrio' : list(df.barrio)})\n",
    "barrio_df = barrio_df.drop_duplicates()\n",
    "barrio_df = barrio_df.assign(key=barrio_df.barrio.str.lower())\n",
    "barrio_df.groupby('key').agg(list)\n",
    "df['barrio'] = df.barrio.str.replace(' ', '_')\n",
    "df['barrio'] = df.barrio.str.replace('-', '_')\n",
    "df['barrio'] = df.barrio.str.lower()\n",
    "df['barrio'] = df.barrio.str.strip()\n",
    "\n",
    "\n",
    "\n",
    "\n",
    "\n",
    "\n",
    "\n"
   ]
  },
  {
   "cell_type": "code",
   "execution_count": 17,
   "metadata": {},
   "outputs": [
    {
     "name": "stderr",
     "output_type": "stream",
     "text": [
      "C:\\Users\\vanfa\\AppData\\Local\\Temp\\ipykernel_17972\\2880662833.py:8: UserWarning: Parsing dates in DD/MM/YYYY format when dayfirst=False (the default) was specified. This may lead to inconsistently parsed dates! Specify a format to ensure consistent parsing.\n",
      "  df['fecha_de_beneficio'] = pd.to_datetime(df['fecha_de_beneficio'])\n",
      "C:\\Users\\vanfa\\AppData\\Local\\Temp\\ipykernel_17972\\2880662833.py:32: FutureWarning: The default value of regex will change from True to False in a future version. In addition, single character regular expressions will *not* be treated as literal strings when regex=True.\n",
      "  df['monto_del_credito'] = df.monto_del_credito.str.replace(\"$\", \"\")\n"
     ]
    },
    {
     "ename": "AttributeError",
     "evalue": "'DataFrame' object has no attribute 'column'",
     "output_type": "error",
     "traceback": [
      "\u001b[1;31m---------------------------------------------------------------------------\u001b[0m",
      "\u001b[1;31mAttributeError\u001b[0m                            Traceback (most recent call last)",
      "Cell \u001b[1;32mIn [17], line 52\u001b[0m\n\u001b[0;32m     49\u001b[0m \u001b[39m#df.value_counts()\u001b[39;00m\n\u001b[0;32m     51\u001b[0m \u001b[39mfor\u001b[39;00m column \u001b[39min\u001b[39;00m df:\n\u001b[1;32m---> 52\u001b[0m     df\u001b[39m.\u001b[39;49mcolumn\u001b[39m.\u001b[39mvalue_counts()\n",
      "File \u001b[1;32mc:\\Users\\vanfa\\AppData\\Local\\Programs\\Python\\Python311\\Lib\\site-packages\\pandas\\core\\generic.py:5902\u001b[0m, in \u001b[0;36mNDFrame.__getattr__\u001b[1;34m(self, name)\u001b[0m\n\u001b[0;32m   5895\u001b[0m \u001b[39mif\u001b[39;00m (\n\u001b[0;32m   5896\u001b[0m     name \u001b[39mnot\u001b[39;00m \u001b[39min\u001b[39;00m \u001b[39mself\u001b[39m\u001b[39m.\u001b[39m_internal_names_set\n\u001b[0;32m   5897\u001b[0m     \u001b[39mand\u001b[39;00m name \u001b[39mnot\u001b[39;00m \u001b[39min\u001b[39;00m \u001b[39mself\u001b[39m\u001b[39m.\u001b[39m_metadata\n\u001b[0;32m   5898\u001b[0m     \u001b[39mand\u001b[39;00m name \u001b[39mnot\u001b[39;00m \u001b[39min\u001b[39;00m \u001b[39mself\u001b[39m\u001b[39m.\u001b[39m_accessors\n\u001b[0;32m   5899\u001b[0m     \u001b[39mand\u001b[39;00m \u001b[39mself\u001b[39m\u001b[39m.\u001b[39m_info_axis\u001b[39m.\u001b[39m_can_hold_identifiers_and_holds_name(name)\n\u001b[0;32m   5900\u001b[0m ):\n\u001b[0;32m   5901\u001b[0m     \u001b[39mreturn\u001b[39;00m \u001b[39mself\u001b[39m[name]\n\u001b[1;32m-> 5902\u001b[0m \u001b[39mreturn\u001b[39;00m \u001b[39mobject\u001b[39;49m\u001b[39m.\u001b[39;49m\u001b[39m__getattribute__\u001b[39;49m(\u001b[39mself\u001b[39;49m, name)\n",
      "\u001b[1;31mAttributeError\u001b[0m: 'DataFrame' object has no attribute 'column'"
     ]
    }
   ],
   "source": [
    "from dataclasses import replace\n",
    "\n",
    "\n",
    "df = pd.read_csv(\"solicitudes_credito.csv\", sep=\";\")\n",
    "df = df[df.columns[1:]]\n",
    "df.drop_duplicates(inplace=True)\n",
    "df.dropna(inplace=True)\n",
    "df['fecha_de_beneficio'] = pd.to_datetime(df['fecha_de_beneficio'])\n",
    "\n",
    "\n",
    "sexo_df = pd.DataFrame ({'sexo' : list(df.sexo)})\n",
    "sexo_df = sexo_df.drop_duplicates()\n",
    "df['sexo'] = df.sexo.str.lower()\n",
    "\n",
    "idea_negocio_df = pd.DataFrame ({'idea_negocio' : list(df.idea_negocio)})\n",
    "idea_negocio_df = idea_negocio_df.drop_duplicates()\n",
    "df['idea_negocio'] = df.idea_negocio.str.replace(\" \", \"_\")\n",
    "df['idea_negocio'] = df.idea_negocio.str.replace(\"-\", \"_\")\n",
    "df['idea_negocio'] = df.idea_negocio.str.lower()\n",
    "df['idea_negocio'] = df.idea_negocio.str.strip()\n",
    "\n",
    "estrato_df = pd.DataFrame ({'estrato' : list(df.estrato)})\n",
    "estrato_df = estrato_df.drop_duplicates()\n",
    "\n",
    "comuna_ciudadano_df = pd.DataFrame ({'comuna_ciudadano' : list(df.comuna_ciudadano)})\n",
    "comuna_ciudadano_df = comuna_ciudadano_df.drop_duplicates()\n",
    "\n",
    "monto_del_credito_df = pd.DataFrame ({'monto_del_credito' : list(df.monto_del_credito)})\n",
    "monto_del_credito_df = monto_del_credito_df.drop_duplicates()\n",
    "df['monto_del_credito'] = df.monto_del_credito.str.replace(\" \", \"\")\n",
    "df['monto_del_credito'] = df.monto_del_credito.str.replace(\",\", \"\")\n",
    "df['monto_del_credito'] = df.monto_del_credito.str.replace(\"$\", \"\")\n",
    "df['monto_del_credito'] = df.monto_del_credito.str.strip()\n",
    "\n",
    "línea_credito_df = pd.DataFrame ({'línea_credito' : list(df.línea_credito)})\n",
    "línea_credito_df = línea_credito_df.drop_duplicates()\n",
    "df['línea_credito'] = df.línea_credito.str.replace(\" \", \"_\")\n",
    "df['línea_credito'] = df.línea_credito.str.replace(\"-\", \"_\")\n",
    "df['línea_credito'] = df.línea_credito.str.lower()\n",
    "df['línea_credito'] = df.línea_credito.str.strip()\n",
    "\n",
    "df['barrio'] = df['barrio'].astype(str)\n",
    "df['línea_credito'] = df['línea_credito'].astype(str)\n",
    "df['monto_del_credito'] = df['monto_del_credito'].astype(float)\n",
    "\n",
    "\n",
    "df.drop_duplicates(inplace = True)\n",
    "\n",
    "#df.value_counts()\n",
    "\n",
    "for column in df:\n",
    "    df.column.value_counts()\n",
    "\n",
    "\n",
    "\n",
    "\n",
    "\n",
    "\n",
    "\n",
    "\n",
    "\n",
    "\n",
    "\n",
    "\n"
   ]
  }
 ],
 "metadata": {
  "kernelspec": {
   "display_name": "Python 3.11.0 64-bit",
   "language": "python",
   "name": "python3"
  },
  "language_info": {
   "codemirror_mode": {
    "name": "ipython",
    "version": 3
   },
   "file_extension": ".py",
   "mimetype": "text/x-python",
   "name": "python",
   "nbconvert_exporter": "python",
   "pygments_lexer": "ipython3",
   "version": "3.11.0"
  },
  "orig_nbformat": 4,
  "vscode": {
   "interpreter": {
    "hash": "a50104b0332e12837e12e442860665aba4962bda19f2ef115e6758855a0d3565"
   }
  }
 },
 "nbformat": 4,
 "nbformat_minor": 2
}
