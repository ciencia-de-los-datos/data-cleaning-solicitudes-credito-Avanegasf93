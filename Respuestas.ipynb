{
 "cells": [
  {
   "cell_type": "code",
   "execution_count": 1,
   "metadata": {},
   "outputs": [],
   "source": [
    "import pandas as pd\n",
    "from dataclasses import replace\n",
    "\n",
    "\n",
    "def clean_data():\n",
    "\n",
    "    df = pd.read_csv(\"solicitudes_credito.csv\", sep=\";\")\n",
    "    df = df[df.columns[1:]]\n",
    "    df.drop_duplicates(inplace=True)\n",
    "    df.drop(['Unnamed: 0'], axis=1,inplace=True)\n",
    "    df.dropna(inplace=True)\n",
    "    df['fecha_de_beneficio'] = pd.to_datetime(df['fecha_de_beneficio'])\n",
    "\n",
    "\n",
    "    df['sexo'] = df.sexo.drop_duplicates()\n",
    "    df['sexo'] = df.sexo.str.lower().strip()\n",
    "\n",
    "    df['tipo_de_emprendimiento'] = df.tipo_de_emprendimiento.drop_duplicates()\n",
    "    df['tipo_de_emprendimiento'] = df.tipo_de_emprendimiento.str.lower()\n",
    "    df['tipo_de_emprendimiento'] = df.tipo_de_emprendimiento.str.strip()\n",
    "\n",
    "    df['idea_negocio'] = df.idea_negocio.drop_duplicates()\n",
    "    df['idea_negocio'] = df.idea_negocio.str.replace(\"_\", \" \", regex=True)\n",
    "    df['idea_negocio'] = df.idea_negocio.str.replace(\"-\", \" \", regex=True)\n",
    "    df['idea_negocio'] = df.idea_negocio.str.lower()\n",
    "    df['idea_negocio'] = df.idea_negocio.str.strip()\n",
    "\n",
    "    df['estrato'] = df.estrato.drop_duplicates()\n",
    "\n",
    "    df['comuna_ciudadano'] = df.comuna_ciudadano.drop_duplicates()\n",
    "\n",
    "    df['monto_del_credito'] = df.monto_del_credito.drop_duplicates()\n",
    "    df['monto_del_credito'] = df.monto_del_credito.str.replace(\" \", \"\", regex=True)\n",
    "    df['monto_del_credito'] = df.monto_del_credito.str.replace(\",\", \"\", regex=True)\n",
    "    df['monto_del_credito'] = df.monto_del_credito.str.replace(\"$\", \"\", regex=True)\n",
    "    df['monto_del_credito'] = df.monto_del_credito.str.replace(\".00\", \"\", regex=True)\n",
    "    df['monto_del_credito'] = df.monto_del_credito.str.strip()\n",
    "\n",
    "    df['barrio'] = df.barrio.drop_duplicates()\n",
    "    df['barrio'] = df.barrio.str.replace(\"_\", \" \", regex=True)\n",
    "    df['barrio'] = df.barrio.str.replace(\"-\", \" \", regex=True)\n",
    "    df['barrio'] = df.barrio.str.lower()\n",
    "    df['barrio'] = df.barrio.str.strip()\n",
    "\n",
    "    df['línea_credito'] = df.línea_credito.drop_duplicates()\n",
    "    df['línea_credito'] = df.línea_credito.str.replace(\"_\", \" \", regex=True)\n",
    "    df['línea_credito'] = df.línea_credito.str.replace(\"-\", \" \", regex=True)\n",
    "    df['línea_credito'] = df.línea_credito.str.replace('soli diaria','solidaria', regex=True)\n",
    "    df['línea_credito'] = df.línea_credito.str.lower()\n",
    "    df['línea_credito'] = df.línea_credito.str.strip()\n",
    "\n",
    "    df['barrio'] = df['barrio'].astype(str)\n",
    "    df['línea_credito'] = df['línea_credito'].astype(str)\n",
    "    df['monto_del_credito'] = df['monto_del_credito'].astype(float)\n",
    "\n",
    "\n",
    "    df.drop_duplicates(inplace = True)\n",
    "\n",
    "    return df"
   ]
  }
 ],
 "metadata": {
  "kernelspec": {
   "display_name": "Python 3.11.0 64-bit",
   "language": "python",
   "name": "python3"
  },
  "language_info": {
   "codemirror_mode": {
    "name": "ipython",
    "version": 3
   },
   "file_extension": ".py",
   "mimetype": "text/x-python",
   "name": "python",
   "nbconvert_exporter": "python",
   "pygments_lexer": "ipython3",
   "version": "3.11.0"
  },
  "orig_nbformat": 4,
  "vscode": {
   "interpreter": {
    "hash": "a50104b0332e12837e12e442860665aba4962bda19f2ef115e6758855a0d3565"
   }
  }
 },
 "nbformat": 4,
 "nbformat_minor": 2
}
